{
 "cells": [
  {
   "cell_type": "markdown",
   "metadata": {},
   "source": [
    "## Markdown Example\n",
    "### Including <a href = https://www.latex-project.org>$\\LaTeX$</a> <a href=https://oeis.org/wiki/List_of_LaTeX_mathematical_symbols>math</a>\n",
    "___\n",
    "1. One of the most __remarkable__ mathematical identities is $e^{i\\pi}+1=0$<br>\n",
    "2. My favorite <em style = 'color:purple;font-family:Impact;font-size:16;'>radioisotope</em> is $_{92}^{238}U$!\n",
    "<br>\n",
    "3. The beloved __normal distribution__ with mean $\\mu$ and variance $\\sigma^2$:<br>\n",
    "a. $P(Z\\leq x)=\\int_{-\\infty}^x\\frac{1}{\\sigma\\sqrt{2\\pi}}exp\\{-\\frac{(x-\\mu)^2}{2\\sigma^2}\\}dx$\n",
    "4. What's your vector, Victor?<br>\n",
    "a. $\\begin{pmatrix} a_1 \\\\ a_2 \\\\ {\\vdots} \\\\ a_n \\end{pmatrix}$"
   ]
  },
  {
   "cell_type": "code",
   "execution_count": 1,
   "metadata": {},
   "outputs": [],
   "source": [
    "def bochy(entity='world'):\n",
    "    print(f\"Hello, {entity}!\")"
   ]
  },
  {
   "cell_type": "code",
   "execution_count": 2,
   "metadata": {},
   "outputs": [
    {
     "name": "stdout",
     "output_type": "stream",
     "text": [
      "Hello, world!\n"
     ]
    }
   ],
   "source": [
    "bochy()"
   ]
  },
  {
   "cell_type": "code",
   "execution_count": 3,
   "metadata": {},
   "outputs": [],
   "source": [
    "import numpy as np, pandas as pd, matplotlib.pyplot as plt\n",
    "from numpy import e,pi"
   ]
  },
  {
   "cell_type": "code",
   "execution_count": 4,
   "metadata": {},
   "outputs": [],
   "source": [
    "import prob_calc as pr #my own stats module"
   ]
  },
  {
   "cell_type": "code",
   "execution_count": 5,
   "metadata": {},
   "outputs": [
    {
     "name": "stdout",
     "output_type": "stream",
     "text": [
      "Help on function rbinom in module prob_calc:\n",
      "\n",
      "rbinom(n, p, n_rands)\n",
      "    Generate an np.array of n_rands random variates from the \n",
      "    binomial distribution with parameters n and p.\n",
      "    This is slower than stats.binom(n,p).rvs(n_rands) for large n_rands, \n",
      "    but faster when n_rands is less than 20 or so, but only if n is small.\n",
      "    If n is large, this will ALWAYS be slower than \n",
      "    stats.binom(n,p).rvs(n_rands)\n",
      "\n"
     ]
    }
   ],
   "source": [
    "help(pr.rbinom)"
   ]
  },
  {
   "cell_type": "code",
   "execution_count": 6,
   "metadata": {},
   "outputs": [],
   "source": [
    "binoms = pd.Series(pr.rbinom(60,1/pi,1000))"
   ]
  },
  {
   "cell_type": "markdown",
   "metadata": {},
   "source": [
    "### Did you know that matplotlib has a $\\LaTeX$ parser?\n",
    "Just surround the math part with \\$ signs and\n",
    "make the string a raw r\"\" string, as shown in the figure below."
   ]
  },
  {
   "cell_type": "code",
   "execution_count": 7,
   "metadata": {},
   "outputs": [
    {
     "data": {
      "text/plain": [
       "count    1000.0000\n",
       "mean       19.1670\n",
       "std         3.6014\n",
       "min         9.0000\n",
       "25%        17.0000\n",
       "50%        19.0000\n",
       "75%        22.0000\n",
       "max        32.0000\n",
       "dtype: float64"
      ]
     },
     "execution_count": 7,
     "metadata": {},
     "output_type": "execute_result"
    }
   ],
   "source": [
    "# plt.figure(figsize=(7.5,5))\n",
    "# plt.hist(binoms,color = 'orange')\n",
    "# plt.title((\"Histogram of 1000 random variates from binom(n=60,\"\n",
    "#           r\" p=$1/\\pi}$)\"),fontsize=12)\n",
    "# plt.xlim(0,60)\n",
    "# plt.show()\n",
    "binoms.describe()"
   ]
  },
  {
   "cell_type": "code",
   "execution_count": 8,
   "metadata": {},
   "outputs": [
    {
     "name": "stdout",
     "output_type": "stream",
     "text": [
      "Wall time: 219 ms\n"
     ]
    },
    {
     "data": {
      "text/plain": [
       "array([18, 23, 21, ..., 16, 27, 21])"
      ]
     },
     "execution_count": 8,
     "metadata": {},
     "output_type": "execute_result"
    }
   ],
   "source": [
    "%time pr.rbinom(60,0.3,10000)"
   ]
  },
  {
   "cell_type": "code",
   "execution_count": 9,
   "metadata": {},
   "outputs": [
    {
     "name": "stdout",
     "output_type": "stream",
     "text": [
      "2.78 ms ± 372 µs per loop (mean ± std. dev. of 7 runs, 100 loops each)\n"
     ]
    }
   ],
   "source": [
    "%timeit pr.rbinom(60,0.3,1)"
   ]
  }
 ],
 "metadata": {
  "kernelspec": {
   "display_name": "Python 3 (ipykernel)",
   "language": "python",
   "name": "python3"
  },
  "language_info": {
   "codemirror_mode": {
    "name": "ipython",
    "version": 3
   },
   "file_extension": ".py",
   "mimetype": "text/x-python",
   "name": "python",
   "nbconvert_exporter": "python",
   "pygments_lexer": "ipython3",
   "version": "3.9.6"
  }
 },
 "nbformat": 4,
 "nbformat_minor": 4
}
